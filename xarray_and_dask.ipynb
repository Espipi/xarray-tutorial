{
 "cells": [
  {
   "cell_type": "markdown",
   "metadata": {},
   "source": [
    "# Xarray and Dask\n"
   ]
  },
  {
   "cell_type": "code",
   "execution_count": 1,
   "metadata": {
    "execution": {
     "iopub.execute_input": "2020-10-02T12:41:53.060950Z",
     "iopub.status.busy": "2020-10-02T12:41:53.060317Z",
     "iopub.status.idle": "2020-10-02T12:41:53.726766Z",
     "shell.execute_reply": "2020-10-02T12:41:53.727113Z"
    }
   },
   "outputs": [],
   "source": [
    "import xarray as xr\n",
    "from dask.distributed import Client"
   ]
  }
 ],
 "metadata": {
  "kernelspec": {
   "display_name": "Python 3",
   "language": "python",
   "name": "python3"
  },
  "language_info": {
   "codemirror_mode": {
    "name": "ipython",
    "version": 3
   },
   "file_extension": ".py",
   "mimetype": "text/x-python",
   "name": "python",
   "nbconvert_exporter": "python",
   "pygments_lexer": "ipython3",
   "version": "3.8.5"
  }
 },
 "nbformat": 4,
 "nbformat_minor": 4
}
